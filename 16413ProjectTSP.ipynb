{
 "cells": [
  {
   "cell_type": "code",
   "execution_count": 4,
   "id": "f9c92c11",
   "metadata": {},
   "outputs": [
    {
     "name": "stdout",
     "output_type": "stream",
     "text": [
      "\u001b[33mWARNING: The directory '/home/jovyan/.cache/pip' or its parent directory is not owned or is not writable by the current user. The cache has been disabled. Check the permissions and owner of that directory. If executing pip with sudo, you should use sudo's -H flag.\u001b[0m\n",
      "Defaulting to user installation because normal site-packages is not writeable\n",
      "Requirement already satisfied: mlrose in /home/jpasiecz/.local/lib/python3.9/site-packages (1.3.0)\n",
      "Requirement already satisfied: numpy in /opt/conda/lib/python3.9/site-packages (from mlrose) (1.20.3)\n",
      "Requirement already satisfied: sklearn in /home/jpasiecz/.local/lib/python3.9/site-packages (from mlrose) (0.0)\n",
      "Requirement already satisfied: scipy in /opt/conda/lib/python3.9/site-packages (from mlrose) (1.7.1)\n",
      "Requirement already satisfied: scikit-learn in /opt/conda/lib/python3.9/site-packages (from sklearn->mlrose) (0.24.2)\n",
      "Requirement already satisfied: threadpoolctl>=2.0.0 in /opt/conda/lib/python3.9/site-packages (from scikit-learn->sklearn->mlrose) (2.2.0)\n",
      "Requirement already satisfied: joblib>=0.11 in /opt/conda/lib/python3.9/site-packages (from scikit-learn->sklearn->mlrose) (1.0.1)\n"
     ]
    }
   ],
   "source": [
    "! pip install mlrose\n",
    "import six\n",
    "import sys\n",
    "sys.modules['sklearn.externals.six'] = six\n",
    "import mlrose"
   ]
  },
  {
   "cell_type": "code",
   "execution_count": 5,
   "id": "05690281",
   "metadata": {},
   "outputs": [
    {
     "name": "stdout",
     "output_type": "stream",
     "text": [
      "The fitness at the best state, ie the length to visit all cities, is:  6811.0 miles\n",
      "The best state found, ie the best visiting order, is:  ['St. Louis', 'Dallas', 'Denver', 'Los Angeles', 'San Francisco', 'Seattle', 'Minneapolis', 'Chicago', 'Boston', 'New York']\n"
     ]
    }
   ],
   "source": [
    "#the distance matrix used for the Travelling Salesman problem\n",
    "#labelling the cities\n",
    "#0. New York - 1. Los Angeles - 2. Chicago - 3. Minneapolis - 4. Denver - 5. Dallas - 6. Seattle - 7. Boston\n",
    "#- 8. San Francisco - 9. St. Louis\n",
    "#the distance matrix consists of a list of triples (u, v, d) that gives the euclidean distances, d, between \n",
    "#all pairs of cities, u and v,\n",
    "dict_of_cities = {0: 'New York', 1: 'Los Angeles', 2: 'Chicago', 3: 'Minneapolis', \n",
    "                  4: 'Denver', 5: 'Dallas', 6: 'Seattle', 7: 'Boston', 8: 'San Francisco',\n",
    "                  9: 'St. Louis'}\n",
    "distance_list = [(0, 1, 2451), (0, 2, 713), (0, 3, 1018), (0, 4, 1631), \\\n",
    "             (0, 5, 1374), (0, 6, 2408), (0, 7, 213), (0, 8, 2571), (0, 9, 875), (1, 2, 1745), \\\n",
    "             (1, 3, 1524), (1, 4, 831), (1, 5, 1240), (1, 6, 959), \\\n",
    "             (1, 7, 2596), (1, 8, 403), (1, 9, 1589), (2, 3, 355), (2, 4, 920), (2, 5, 803), \\\n",
    "             (2, 6, 1737), (2, 7, 851), (2, 8, 1858), (2, 9, 262), (3, 4, 700), (3, 5, 862), \\\n",
    "             (3, 6, 1395), (3, 7, 1123), (3, 8, 1584), (3, 9, 466), (4, 5, 663), (4, 6, 1021), \\\n",
    "             (4, 7, 1769), (4, 8, 949), (4, 9, 796), (5, 6, 1681), (5, 7, 1551), (5, 8, 1765), \\\n",
    "             (5, 9, 547), (6, 7, 2493), (6, 8, 678), (6, 9,1724), (7, 8, 2699), (7, 9,  1038), \\\n",
    "             (8, 9, 1744)]\n",
    "\n",
    "#Solving the Travelling Salesman problem to find the least distance to travel through all cities\n",
    "#defining the fitness function using the distance matrix\n",
    "fitness_dists = mlrose.TravellingSales(distances = distance_list)\n",
    "#defining the optimization problem object using the TSPOpt() optimization problem class\n",
    "#the length is the number of cities to visit and we want to minimize the total distance travelled\n",
    "problem_fit = mlrose.TSPOpt(length = 10, fitness_fn = fitness_dists,\n",
    "                            maximize=False)\n",
    "#using a genetic algorithm we output the best visiting order and the total distance to visit\n",
    "best_state, best_fitness = mlrose.genetic_alg(problem_fit, mutation_prob = 0.2, max_attempts = 1000, \n",
    "                                              random_state = 2)\n",
    "#best_state, best_fitness = mlrose.genetic_alg(problem_fit, random_state = 2)\n",
    "\n",
    "#print('The best state found is: ', best_state)\n",
    "print('The fitness at the best state, ie the length to visit all cities, is: ', best_fitness, 'miles')\n",
    "\n",
    "#printing best visiting order\n",
    "visiting_order = []\n",
    "for i in best_state:\n",
    "    visiting_order.append(dict_of_cities[i])\n",
    "print('The best state found, ie the best visiting order, is: ', visiting_order)"
   ]
  },
  {
   "cell_type": "code",
   "execution_count": null,
   "id": "5841f7fe",
   "metadata": {},
   "outputs": [],
   "source": []
  }
 ],
 "metadata": {
  "kernelspec": {
   "display_name": "Python 3 (ipykernel)",
   "language": "python",
   "name": "python3"
  },
  "language_info": {
   "codemirror_mode": {
    "name": "ipython",
    "version": 3
   },
   "file_extension": ".py",
   "mimetype": "text/x-python",
   "name": "python",
   "nbconvert_exporter": "python",
   "pygments_lexer": "ipython3",
   "version": "3.9.6"
  }
 },
 "nbformat": 4,
 "nbformat_minor": 5
}
