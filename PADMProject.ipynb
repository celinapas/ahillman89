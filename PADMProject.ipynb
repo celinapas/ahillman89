{
 "cells": [
  {
   "cell_type": "code",
   "execution_count": 1,
   "id": "642aec54",
   "metadata": {},
   "outputs": [
    {
     "name": "stdout",
     "output_type": "stream",
     "text": [
      "\u001b[33mWARNING: The directory '/home/jovyan/.cache/pip' or its parent directory is not owned or is not writable by the current user. The cache has been disabled. Check the permissions and owner of that directory. If executing pip with sudo, you should use sudo's -H flag.\u001b[0m\n",
      "Defaulting to user installation because normal site-packages is not writeable\n",
      "Requirement already satisfied: pulp in /home/skyeeiskowitz/.local/lib/python3.9/site-packages (2.5.1)\n"
     ]
    },
    {
     "name": "stderr",
     "output_type": "stream",
     "text": [
      "Matplotlib created a temporary config/cache directory at /tmp/matplotlib-v8l5pc0f because the default path (/home/jovyan/.cache/matplotlib) is not a writable directory; it is highly recommended to set the MPLCONFIGDIR environment variable to a writable directory, in particular to speed up the import of Matplotlib and to better support multiprocessing.\n"
     ]
    }
   ],
   "source": [
    "#here are some useful imports for this particular series of examples \n",
    "from scipy.optimize import linprog\n",
    "from IPython.core.display import Image, display\n",
    "! pip install pulp\n",
    "from __future__ import division\n",
    "%matplotlib inline\n",
    "import numpy as np\n",
    "import matplotlib as mpl\n",
    "import matplotlib.pyplot as plt\n",
    "import copy"
   ]
  },
  {
   "cell_type": "markdown",
   "id": "799e2cb6",
   "metadata": {},
   "source": [
    "# An industrial bakery: from the grain to your door\n",
    "\n",
    "Our problem focuses around an industrial bakery and how to optimize the production and deliver to minimize cost and maximize gain. From this general statement, we envision four different automation areas:\n",
    "1. Production optimization: focused on the factories themselves, we want to decide when and how to produce certain products. We formulate the problem as a decision of how many days we need each factory to produce each product, in order to meet the clients' requirements. This is a classic example of Linear Programming, where we need to account for the supply and demand constraints to obtain, not only a feasible solution, but also an optimized one.\n",
    "2. Product fitting: once we have the products, we need to fit them products into a truck. Since the objective is to maximize revenue, we want to fit the maximum value into a volume-limited truck. This is a classic instance of a Knapsack problem, which is a subclass of the more general Constrained Problems.\n",
    "3. Vehicle routing: once the truck is filled, the objective is to bring the products to the clients using the most efficient route. This is a classic instance of the travel salesman problem, where we need to visit certain locations in order to sell the products.\n",
    "4. Truck diagnosis and repairing: since trucks are a fundamental factor in our business case, we need to ensure that we can diagnose, at any point, the state of the truck and be able to determine a correct repairing procedure to avoid unnecessary delays.\n",
    "\n",
    "Each of the following sections details each one of the specific sub-problems. \n",
    "\n",
    "The main contributors of each sections are: Alex Hillman and Skylar Eiskowitz (1), Celina Pasiecznik (2), Julia Pasiecznik (3), and Nils Pachler de la Osa (4)."
   ]
  },
  {
   "cell_type": "markdown",
   "id": "a2c0d1d4",
   "metadata": {},
   "source": [
    "# 4. Truck diagnosis and repairing\n",
    "The objective of this section is to provide a tool for truck diagnosis as well as a tool for automated decision making for truck maintenance, according to the diagnosis. Throughout the section, we consider a general truck of any dimensions and manufacturer. Thus, the failure probabilities are based on the authors' best estimation, and should be refined for a better diagnosis with the help of a manufacturer or an expert.\n",
    "\n",
    "To be able to diagnose the state of a truck, we need to understand what components form the truck. Just as a toy example, we will assume that a truck is composed of 10 different components. Each component can be in different states, according to the code below."
   ]
  },
  {
   "cell_type": "code",
   "execution_count": 1,
   "id": "785b947c",
   "metadata": {},
   "outputs": [],
   "source": [
    "TruckStates = {\n",
    "    'Breaks': ['OK', 'AlmostBroken', 'Broken', 'Unknown'],\n",
    "    'Engine': ['OK', 'Overheated', 'Broken', 'Unknown'],\n",
    "    'Starter': ['OK', 'Broken', 'Unknown'],\n",
    "    'U-Joint': ['OK', 'AlmostBroken', 'Broken', 'Unknown'],\n",
    "    'Tires': ['OK', 'Broken', 'Unknown'],  # Broken == Flat tire\n",
    "    'Fuel': ['Empty', 'Not Empty'],\n",
    "    'Battery': ['Empty', 'Not Empty'],\n",
    "    'EngineSensor': ['OK', 'Not OK'],\n",
    "    'FuelSensor': ['OK', 'Not OK'],\n",
    "    'BatterySensor': ['OK', 'Not OK']\n",
    "}"
   ]
  },
  {
   "cell_type": "markdown",
   "id": "a4b4ce55",
   "metadata": {},
   "source": [
    "Each component has an independent failure probability that will depend on multiple factors: manufacturer, average load weight, state of the road, experience of the driver, etc. While this numbers may be highly volatile, we will assume the fixed values specified below. These numbers can be further refined with more information of the specific operations environment."
   ]
  },
  {
   "cell_type": "code",
   "execution_count": 2,
   "id": "f50c2791",
   "metadata": {},
   "outputs": [],
   "source": [
    "TruckStatesProbabilities = {\n",
    "    'Breaks': [1 - 0.05 - 0.02 - 0.001, 0.05, 0.02, 0.001],\n",
    "    'Engine': [1 - 0.05 - 0.01 - 0.001, 0.05, 0.01, 0.001],\n",
    "    'Starter': [1 - 0.04 - 0.001, 0.04, 0.001],\n",
    "    'U-Joint': [1 - 0.05 - 0.03 - 0.001, 0.05, 0.03, 0.001],\n",
    "    'Tires': [1 - 0.01 - 0.001, 0.01, 0.001],  # Broken == Flat tire\n",
    "    'Fuel': [0.1, 0.9],\n",
    "    'Battery': [0.11, 0.89],\n",
    "    'EngineSensor': [0.9999, 0.0001],\n",
    "    'FuelSensor': [0.9999, 0.0001],\n",
    "    'BatterySensor': [0.9999, 0.0001]\n",
    "}"
   ]
  },
  {
   "cell_type": "markdown",
   "id": "ae11b4f4",
   "metadata": {},
   "source": [
    "For any combination of states, the driver will experience a set of symptoms with which we can infer the real state of the truck. For example, if driving is smooth in both highway and city, it is highly likely that all the components of the truck are in a correct state. If something fails, it is likely that the driver will see or feel something unusual. For our example, we will work with 6 possible self-descriptive symptoms:"
   ]
  },
  {
   "cell_type": "code",
   "execution_count": null,
   "id": "6495f26f",
   "metadata": {},
   "outputs": [],
   "source": [
    "TruckSymptoms = {\n",
    "    'HighwayDriving': ['Normal', 'Not high speeds', 'Impossible', 'Unknown'],  # Feeling when driving in highways\n",
    "    'CityDriving': ['Normal', 'Slow break', 'Impossible', 'Unknown'],  # Feeling when driving in cities\n",
    "    'EngineStart': ['Yes', 'No', 'Unknown'],  # Does the engine start?\n",
    "    'FuelLevel': ['Empty', 'Not Empty', 'Unknown'],  # What's the fuel level, according to visual indicators\n",
    "    'BatteryLevel': ['Empty', 'Not Empty', 'Unknown'],  # What's the battery level, according to visual indicators\n",
    "    'EngineTemperature': ['OK', 'Not OK', 'Unknown']  # What's the engine temperature, according to visual indicators\n",
    "}"
   ]
  },
  {
   "cell_type": "markdown",
   "id": "db6e27aa",
   "metadata": {},
   "source": [
    "Each observed symptom indicates certain knowledge about the possible states of the truck. For example, if driving in highway is smooth, we know that the engine must be OK (otherwise we could not reach higher speeds, or even ignite the engine), the U-Joint must be OK (otherwise we could not reach higher speeds, or even drive at all), the tires must be OK (otherwise we could not reach higher speeds, or even drive at all), and we must have some fuel left. The same logic can be applied to every symptom to create a propositional model that validates the state of the truck. The specific logic used in our example is determined in the code below."
   ]
  },
  {
   "cell_type": "code",
   "execution_count": 3,
   "id": "35069491",
   "metadata": {},
   "outputs": [],
   "source": [
    "TruckClauses = [\n",
    "    [['HighwayDriving', 'is', 'Normal'], 'implies', ['Engine', 'is', 'OK']],\n",
    "    [['HighwayDriving', 'is', 'Normal'], 'implies', ['U-Joint', 'is', 'OK']],\n",
    "    [['HighwayDriving', 'is', 'Normal'], 'implies', ['Tires', 'is', 'OK']],\n",
    "    [['HighwayDriving', 'is', 'Normal'], 'implies', ['Fuel', 'is', 'Not Empty']],\n",
    "\n",
    "    [['HighwayDriving', 'is', 'Not high speeds'], 'implies', [['Engine', 'is', 'OK'], 'or', ['Engine', 'is', 'Overheated']]],\n",
    "    [['HighwayDriving', 'is', 'Not high speeds'], 'implies', [['U-Joint', 'is', 'OK'], 'or', ['U-Joint', 'is', 'AlmostBroken']]],\n",
    "    [['HighwayDriving', 'is', 'Not high speeds'], 'implies', [['Tires', 'is', 'OK'], 'or', ['Tires', 'is', 'Broken']]],\n",
    "    [['HighwayDriving', 'is', 'Not high speeds'], 'implies', ['Fuel', 'is', 'Not Empty']],\n",
    "    [['HighwayDriving', 'is', 'Not high speeds'], 'implies',\n",
    "        [['Engine', 'is', 'Overheated'], 'or', [['U-Joint', 'is', 'AlmostBroken'], 'or', ['Tires', 'is', 'AlmostBroken']]]],\n",
    "\n",
    "    [['HighwayDriving', 'is', 'Impossible'], 'implies',\n",
    "        [['Engine', 'is', 'Broken'], 'or', [['U-Joint', 'is', 'Broken'], 'or', ['Fuel', 'is', 'Empty']]]],\n",
    "\n",
    "    [['CityDriving', 'is', 'Normal'], 'implies', [['Engine', 'is', 'OK'], 'or', ['Engine', 'is', 'Overheated']]],\n",
    "    [['CityDriving', 'is', 'Normal'], 'implies', [['U-Joint', 'is', 'OK'], 'or', ['U-Joint', 'is', 'AlmostBroken']]],\n",
    "    [['CityDriving', 'is', 'Normal'], 'implies', ['Tires', 'is', 'OK']],\n",
    "    [['CityDriving', 'is', 'Normal'], 'implies', ['Fuel', 'is', 'Not Empty']],\n",
    "    [['CityDriving', 'is', 'Normal'], 'implies', ['Breaks', 'is', 'OK']],\n",
    "\n",
    "    [['CityDriving', 'is', 'Slow break'], 'implies', [['Engine', 'is', 'OK'], 'or', ['Engine', 'is', 'Overheated']]],\n",
    "    [['CityDriving', 'is', 'Slow break'], 'implies', [['U-Joint', 'is', 'OK'], 'or', ['U-Joint', 'is', 'AlmostBroken']]],\n",
    "    [['CityDriving', 'is', 'Slow break'], 'implies', [['Tires', 'is', 'OK'], 'or', ['Tires', 'is', 'Broken']]],\n",
    "    [['CityDriving', 'is', 'Slow break'], 'implies', ['Fuel', 'is', 'Not Empty']],\n",
    "    [['CityDriving', 'is', 'Slow break'], 'implies', [['Breaks', 'is', 'OK'], 'or', ['Breaks', 'is', 'AlmostBroken']]],\n",
    "    [['CityDriving', 'is', 'Slow break'], 'implies', [['Tires', 'is', 'Broken'], 'or', ['Breaks', 'is', 'AlmostBroken']]],\n",
    "\n",
    "    [['CityDriving', 'is', 'Impossible'], 'implies',\n",
    "        [['Engine', 'is', 'Broken'], 'or', [['U-Joint', 'is', 'Broken'],\n",
    "         'or', [['Fuel', 'is', 'Empty'], 'or', ['Breaks', 'is', 'Broken']]]]],\n",
    "\n",
    "    [['EngineStart', 'is', 'Yes'], 'implies', [['Engine', 'is', 'OK'], 'or', ['Engine', 'is', 'Overheated']]],\n",
    "    [['EngineStart', 'is', 'Yes'], 'implies', ['Starter', 'is', 'OK']],\n",
    "    [['EngineStart', 'is', 'Yes'], 'implies', ['Fuel', 'is', 'Not Empty']],\n",
    "    [['EngineStart', 'is', 'Yes'], 'implies', ['Battery', 'is', 'Not Empty']],\n",
    "\n",
    "    [['EngineStart', 'is', 'No'], 'implies',\n",
    "        [['Engine', 'is', 'Broken'], 'or', [['Starter', 'is', 'Broken'],\n",
    "         'or', [['Fuel', 'is', 'Empty'], 'or', ['Battery', 'is', 'Empty']]]]],\n",
    "\n",
    "    [['FuelLevel', 'is', 'Empty'], 'implies', [['Fuel', 'is', 'Empty'], 'or', ['FuelSensor', 'is', 'Not OK']]],\n",
    "    [['FuelLevel', 'is', 'Not Empty'], 'implies', [['Fuel', 'is', 'Not Empty'], 'or', ['FuelSensor', 'is', 'Not OK']]],\n",
    "\n",
    "    [['BatteryLevel', 'is', 'Empty'], 'implies', [['Battery', 'is', 'Empty'], 'or', ['BatterySensor', 'is', 'Not OK']]],\n",
    "    [['BatteryLevel', 'is', 'Not Empty'], 'implies', [['Battery', 'is', 'Not Empty'], 'or', ['BatterySensor', 'is', 'Not OK']]],\n",
    "\n",
    "    [['EngineTemperature', 'is', 'OK'], 'implies', [['Engine', 'is', 'OK'], 'or', ['EngineSensor', 'is', 'Not OK']]],\n",
    "    [['EngineTemperature', 'is', 'Not OK'], 'implies', [['Engine', 'is', 'Overheated'], 'or', [['Engine', 'is', 'Broken'], 'or', ['EngineSensor', 'is', 'Not OK']]]]\n",
    "]"
   ]
  },
  {
   "cell_type": "markdown",
   "id": "913e5349",
   "metadata": {},
   "source": [
    "Finally, once we determine the state of the truck, we have different repairing options to choose from. Although a full check makes sure everything is OK, it is usually more expensive and may not always be needed. For example, if we determined that the most likely cause of the symptoms is a flat tire, we can save some money by only exchanging the tires, instead of running a full check. The set of options, as well as the cost of each option, is summarized in the code below."
   ]
  },
  {
   "cell_type": "code",
   "execution_count": 4,
   "id": "59648e10",
   "metadata": {},
   "outputs": [],
   "source": [
    "TruckRepairing = {  # Effect of each repairing option\n",
    "    'BreakCheck': {'Breaks': 'OK'},\n",
    "    'TireCheck': {'Tires': 'OK'},\n",
    "    'EngineCheck': {'Starter': 'OK', 'Engine': 'OK'},\n",
    "    'ConventionalCheck': {'Breaks': 'OK', 'Tires': 'OK', 'Starter': 'OK', 'EngineSensor': 'OK'},\n",
    "    'TransmissionCheck': {'Starter': 'OK', 'Engine': 'OK', 'U-Joint': 'OK'},\n",
    "    'FullCheck': {'Breaks': 'OK', 'Tires': 'OK', 'Engine': 'OK', 'U-Joint': 'OK',\n",
    "                  'Starter': 'OK', 'FuelSensor': 'OK', 'BatterySensor': 'OK', 'EngineSensor': 'OK'},\n",
    "    'SensorCheck': {'FuelSensor': 'OK', 'BatterySensor': 'OK', 'EngineSensor': 'OK'},\n",
    "    'GasStationCheck': {'Fuel': 'Not Empty', 'Battery': 'Not Empty'}\n",
    "}\n",
    "\n",
    "TruckCosts = {  # Cost of each repairing option\n",
    "    'BreakCheck': 80,\n",
    "    'TireCheck': 40,\n",
    "    'EngineCheck': 100,\n",
    "    'ConventionalCheck': 200,\n",
    "    'TransmissionCheck': 400,\n",
    "    'FullCheck': 500,\n",
    "    'SensorCheck': 20,\n",
    "    'GasStationCheck': 40\n",
    "}"
   ]
  },
  {
   "cell_type": "markdown",
   "id": "a2b360e8",
   "metadata": {},
   "source": [
    "Just as a helper class, we implemented a simple version of a priority queue that will be used later on."
   ]
  },
  {
   "cell_type": "code",
   "execution_count": null,
   "id": "48a5e385",
   "metadata": {},
   "outputs": [],
   "source": [
    "class PriorityQueue:\n",
    "    \"\"\"\n",
    "    Simple class to implement a Priority queue. It contains a list sorted on descending order\n",
    "    \"\"\"\n",
    "    def __init__(self):\n",
    "        \"\"\"\n",
    "        Initialization of the list as an empty list\n",
    "        \"\"\"\n",
    "        self.queue = []\n",
    "\n",
    "    def add(self, node, value):\n",
    "        \"\"\"\n",
    "        Function to add an element to the queue\n",
    "        :param node: Node to be added\n",
    "        :param value: Value of the node\n",
    "        :return: -\n",
    "        \"\"\"\n",
    "        def add_recursive(self, node, value, left, right):\n",
    "            \"\"\"\n",
    "            Recursive function to add an element to the queue. It uses the fact that the list is already ordered\n",
    "            :param self: PriorityQueue element containing the list\n",
    "            :param node: Node to add\n",
    "            :param value: Value of the node\n",
    "            :param left: Left index to look at\n",
    "            :param right: Right index to look at\n",
    "            :return: -\n",
    "            \"\"\"\n",
    "            if right - left <= 0:\n",
    "                if right == len(self.queue):\n",
    "                    self.queue.append((value, node))\n",
    "                else:\n",
    "                    self.queue.insert(right, (value, node))\n",
    "                return\n",
    "            m = int((left + right) / 2)\n",
    "            if self.queue[m][0] > value:\n",
    "                add_recursive(self, node, value, m + 1, right)\n",
    "            else:\n",
    "                add_recursive(self, node, value, left, m)\n",
    "        add_recursive(self, node, value, 0, len(self.queue))\n",
    "\n",
    "    def pop(self):\n",
    "        \"\"\"\n",
    "        Function to pop the first element of the queue\n",
    "        :return: Returns the node and the value of that node\n",
    "        \"\"\"\n",
    "        aux = self.queue.pop(0)\n",
    "        return aux[1], aux[0]\n",
    "\n",
    "    def __len__(self):\n",
    "        \"\"\"\n",
    "        :return: Returns the length of the queue\n",
    "        \"\"\"\n",
    "        return len(self.queue)"
   ]
  },
  {
   "cell_type": "markdown",
   "id": "9c395a5a",
   "metadata": {},
   "source": [
    "Now, given the described model and a set of symptoms, we need to develop the code to determine the most likely set of states that the truck can be in. Before that, we can observe that our model is not purely written in propositional clauses (due to the \"implies\" logic). Therefore, we will develop code to check if the Model is a correctly formatted Model, and code to transform the Model into a set of propositional clauses."
   ]
  },
  {
   "cell_type": "code",
   "execution_count": 5,
   "id": "85c83970",
   "metadata": {},
   "outputs": [],
   "source": [
    "def check_clause(clause, States, Symptoms):\n",
    "    \"\"\"\n",
    "    Function to check if the data structure of the clause or any sub-clause is correct\n",
    "    :param clause: Clause to be checked, to be correct must contain three elements, if the second element is either\n",
    "    \"is\" or \"is not\" the first and third elements must be strings containing an element assignment, otherwise the first\n",
    "    and third clauses must be sub-clauses themselves\n",
    "    :param States: Dictionary with the possible states of the elements in the model (not including symptoms)\n",
    "    :param Symptoms: Dictionary with the possible symptoms of the elements in the model (not including states)\n",
    "    :return: Returns True if the clause and sub-clauses are valid, False otherwise\n",
    "    \"\"\"\n",
    "    raise NotImplementedError\n",
    "    \n",
    "    \n",
    "def check_logic(clauses, States, Symptoms):\n",
    "    \"\"\"\n",
    "    Function to check the format validity of a Model\n",
    "    :param clauses: Clauses to be checked\n",
    "    :param States: Dictionary with the possible states of the elements in the model (not including symptoms)\n",
    "    :param Symptoms: Dictionary with the possible symptoms of the elements in the model (not including states)\n",
    "    :return: Returns False if any of the clauses is not properly formatted\n",
    "    \"\"\"\n",
    "    raise NotImplementedError\n",
    "\n",
    "    \n",
    "def transform_logic(clause, negate=False):  \n",
    "    \"\"\"\n",
    "    Function to transform a specific clause into a propositional logic clause\n",
    "    :param clause: Clause to be transformed, must contain exactly three elements\n",
    "    :param negate: Boolean to determine if we need to negate the clause or not\n",
    "    :return: Returns a list of propositional clauses\n",
    "    \"\"\"\n",
    "    raise NotImplementedError\n",
    "\n",
    "    \n",
    "def transform_model(Model, States, Symptoms):  \n",
    "    \"\"\"\n",
    "    Function to transform an entire Model into a set of propositional clauses\n",
    "    :param Model: Model to be transformed, needs to be a list of clauses\n",
    "    :param States: Dictionary with the possible states of the elements in the model (not including symptoms)\n",
    "    :param Symptoms: Dictionary with the possible symptoms of the elements in the model (not including states)\n",
    "    :return: Returns a new Model as a set of clauses on propositional logic with only: OR, IS, and IS NOT.\n",
    "    \"\"\"\n",
    "    raise NotImplementedError"
   ]
  },
  {
   "cell_type": "markdown",
   "id": "7dd698f9",
   "metadata": {},
   "source": [
    "Although we have the necessary code to transform the Model into a set of propositional clauses, we still need code to check if a specific set of states is valid given a set of observations."
   ]
  },
  {
   "cell_type": "code",
   "execution_count": 6,
   "id": "9ce0b889",
   "metadata": {},
   "outputs": [],
   "source": [
    "def validate_clause(clause, node, current_symptoms):\n",
    "    \"\"\"\n",
    "    Function to validate a specific set of states against a clause given a set of observations\n",
    "    :param clause: Clause to validate against\n",
    "    :param node: Set of states to validate\n",
    "    :param current_symptoms: Observed symptoms\n",
    "    :return: True if the clause is satisfied, False otherwise\n",
    "    \"\"\"\n",
    "    raise NotImplementedError\n",
    "    \n",
    "    \n",
    "def read_conflict(clause, States, current_symptoms, negate=False):\n",
    "    \"\"\"\n",
    "    Function to read the conflict underlying a clause\n",
    "    :param clause: Clause to read the conflict from\n",
    "    :param States: Dictionary with the possible states of the elements in the model (not including symptoms)\n",
    "    :param current_symptoms: Observed symptoms\n",
    "    :param negate: Boolean to determine if we need to negate the clause or not\n",
    "    :return: Returns a set of possible states that are necessary to satisfy the clause\n",
    "    \"\"\"\n",
    "    raise NotImplementedError\n",
    "\n",
    "    \n",
    "def validate_state(clauses, node, current_symptoms, States):\n",
    "    \"\"\"\n",
    "    Function to validate a specific set of states against a Model given a set of observations\n",
    "    :param clauses: Model that we want to validate against (must be a valid Model)\n",
    "    :param node: Set of states that we want to check\n",
    "    :param current_symptoms: Observed symptoms\n",
    "    :param States: Dictionary with the possible states of the elements in the model (not including symptoms)\n",
    "    :return: Returns True if the set of states is valid within a Model. False otherwise.\n",
    "    In addition, if the result is False, it returns one conflict that the current set does not satisfy\n",
    "    \"\"\"\n",
    "    raise NotImplementedError"
   ]
  },
  {
   "cell_type": "markdown",
   "id": "b5dcb320",
   "metadata": {},
   "source": [
    "Now, before going to the core of the diagnosis, our propositional logic functions rely on detecting what are the sources of conflicts and finding kernel diagnoses to work with. Thus, we need to define helper functions that add conflicts to current kernel diagnoses."
   ]
  },
  {
   "cell_type": "code",
   "execution_count": 7,
   "id": "76f9d14c",
   "metadata": {},
   "outputs": [],
   "source": [
    "def check_is_subset(s1, s2):\n",
    "    \"\"\"\n",
    "    Function to check if the dictionary of s2 is a subset of s1\n",
    "    :param s1: Dictionary (i.e., the superset)\n",
    "    :param s2: Dictionary (i.e., the subset)\n",
    "    :return: Returns True if s2 is a subset of s1, False otherwise\n",
    "    \"\"\"\n",
    "    raise NotImplementedError\n",
    "\n",
    "    \n",
    "def ComputeProbability(s1, States, Probabilities):\n",
    "    \"\"\"\n",
    "    Function to compute the probability of a specific set of states\n",
    "    :param s1: Set of states to compute the probability against\n",
    "    :param States: Dictionary with the possible states of the elements in the model (not including symptoms)\n",
    "    :param Probabilities: Dictionary with the probability value of each state\n",
    "    :return: Returns the probability of the set s1\n",
    "    \"\"\"\n",
    "    raise NotImplementedError\n",
    "    \n",
    "    \n",
    "def update_kernel_diagnoses(kernel_diagnoses, conflict, States, Probabilities):\n",
    "    \"\"\"\n",
    "    Function to update a kernel diagnosis given a new conflict\n",
    "    :param kernel_diagnoses: Current set of kernel diagnoses\n",
    "    :param conflict: New conflict found\n",
    "    :param States: Dictionary with the possible states of the elements in the model (not including symptoms)\n",
    "    :param Probabilities: Dictionary with the probability value of each state\n",
    "    :return: Returns the updated list of kernel diagnoses including the conflict\n",
    "    \"\"\"\n",
    "    raise NotImplementedError"
   ]
  },
  {
   "cell_type": "markdown",
   "id": "6c13e0d2",
   "metadata": {},
   "source": [
    "Finally, we can describe the function that performs a best-first search towards the most probable configurations. Note that we are talking about configurations in plural because we want a probability estimate for each one. Each function will have the capability of either inputing how many diagnoses to return, or the desired threshold probability. As mentioned, the logic of the tree relies on kernel diagnoses and conflicts: once a specific state is reached, if the state is valid for the model, it is added to the return list and, if not, the underlying conflict is extracted and the whole search is restarted with the new information. Although this may seem to add innecessary computation, in reality the algorithm runs much faster due to the early pruning of invalid options."
   ]
  },
  {
   "cell_type": "code",
   "execution_count": null,
   "id": "941e7e4a",
   "metadata": {},
   "outputs": [],
   "source": [
    "def LikelihoodSearchTree(initial_tree, current_symptoms, Model, States, Probabilities, N, P):\n",
    "    \"\"\"\n",
    "    Function to perform the best-first search based on probabilities and kernel diagnoses\n",
    "    :param initial_tree: Initial tree extracted from previous kernel diagnoses\n",
    "    :param current_symptoms: Observed symptoms\n",
    "    :param Model: Model to validate against\n",
    "    :param States: Dictionary with the possible states of the elements in the model (not including symptoms)\n",
    "    :param Probabilities: Dictionary with the probability value of each state\n",
    "    :param N: Number of valid states to retrieve. If different than None, this has priority over P\n",
    "    :param P: Threshold probability of the desired valid states to retrieve (i.e., we want the set of valid states to \n",
    "    represent a probability of at least P)\n",
    "    :return: Returns a set of valid states\n",
    "    \"\"\"\n",
    "    raise NotImplementedError\n",
    "    \n",
    "\n",
    "def FindMostLikelyStates(Statement, Model, States, Probabilities, Symptoms, N=None, P=None):\n",
    "    \"\"\"\n",
    "    Function to validate the Model and perform the search\n",
    "    :param Statement: Observed symptoms\n",
    "    :param Model: Model to validate against\n",
    "    :param States: Dictionary with the possible states of the elements in the model (not including symptoms)\n",
    "    :param Probabilities: Dictionary with the probability value of each state\n",
    "    :param Symptoms: Dictionary with the possible symptoms of the elements in the model (not including states)\n",
    "    :param N: If given, maximum number of valid states to return\n",
    "    :param P: If given, threshold probability of the set of valid states\n",
    "    :return: Returns the set of valid states with maximum probability according to the symptoms\n",
    "    \"\"\"\n",
    "    raise NotImplementedError"
   ]
  },
  {
   "cell_type": "markdown",
   "id": "dd5e7539",
   "metadata": {},
   "source": [
    "The previous functions return the set of most probable diagnoses according to a set of observed symptoms. However, when the possible diagnoses is large (due to diagnoses with similar probabilities, or a large confidence value), reading through all of them and determining the best course of action might be a nightmare. The objective of the next part is to automatically determine the best course of action given a set of diagnoses and their probability, a set of repairing actions, a goal state, and a confidence probability value. In plain words, we want that, not matter what the actual correct diagnoses is, to ensure that after the repairs we get to the desired state with at least a given probability. This can be done using a best-first search where now the cost value is the cost of the repairings."
   ]
  },
  {
   "cell_type": "code",
   "execution_count": 9,
   "id": "d55f7fb7",
   "metadata": {},
   "outputs": [],
   "source": [
    "def CheckAllStates(states, goal):\n",
    "    \"\"\"\n",
    "    Function to check if a specific list of states satisfies the goal state\n",
    "    :param states: List of states to check\n",
    "    :param goal: State to satisfy\n",
    "    :return: Returns True if all the states satisfy the goal, False otherwise\n",
    "    \"\"\"\n",
    "    raise NotImplementedError\n",
    "    \n",
    "\n",
    "def CheckIfDone(action_list, visited_list):\n",
    "    \"\"\"\n",
    "    Helper function to determine if a specific set of actions have already been performed. This is just to avoid revisit\n",
    "    :param action_list: Set of actions to check\n",
    "    :param visited_list: List of sets of actions already visited\n",
    "    :return: True if the action set has already been visited, False otherwise\n",
    "    \"\"\"\n",
    "    raise NotImplementedError\n",
    "    \n",
    "    \n",
    "def FilterState(possible_states, prob):\n",
    "    \"\"\"\n",
    "    Function to filter the possible states according to a given probability\n",
    "    :param possible_states: Possible valid states to filter\n",
    "    :param prob: Probability to filter against\n",
    "    :return: Returns a new set of states with probability of at least prob\n",
    "    \"\"\"\n",
    "    raise NotImplementedError\n",
    "    \n",
    "\n",
    "def RepairTruck(possible_states, Actions, Cost, goal):\n",
    "    \"\"\"\n",
    "    Function to determine the course of action to ensure a successful repair\n",
    "    :param possible_states: List of state sets that we need to correct\n",
    "    :param Actions: Dictionary with each of the repairing actions and the effect of each one\n",
    "    :param Cost: Dictionary with the cost of each repairing action\n",
    "    :param goal: Set of states that determine the objective goal\n",
    "    :return: Returns the list of repairing actions to take to achieve the goal\n",
    "    \"\"\"\n",
    "    raise NotImplementedError"
   ]
  },
  {
   "cell_type": "markdown",
   "id": "95a691c1",
   "metadata": {},
   "source": [
    "Now we have all the necessary elements to run our model against multiple observations and desired probabilities\n",
    "\n"
   ]
  },
  {
   "cell_type": "code",
   "execution_count": 10,
   "id": "72290495",
   "metadata": {},
   "outputs": [
    {
     "ename": "NameError",
     "evalue": "name 'TruckSymptoms' is not defined",
     "output_type": "error",
     "traceback": [
      "\u001b[0;31m---------------------------------------------------------------------------\u001b[0m",
      "\u001b[0;31mNameError\u001b[0m                                 Traceback (most recent call last)",
      "\u001b[0;32m/tmp/ipykernel_358/2490704032.py\u001b[0m in \u001b[0;36m<module>\u001b[0;34m\u001b[0m\n\u001b[1;32m      5\u001b[0m              ['FuelLevel', 'is', 'Not Empty'], ['BatteryLevel', 'is', 'Not Empty'], ['EngineTemperature', 'is', 'OK']]\n\u001b[1;32m      6\u001b[0m \u001b[0;34m\u001b[0m\u001b[0m\n\u001b[0;32m----> 7\u001b[0;31m \u001b[0mNewModel\u001b[0m \u001b[0;34m=\u001b[0m \u001b[0mtransform_model\u001b[0m\u001b[0;34m(\u001b[0m\u001b[0mTruckClauses\u001b[0m\u001b[0;34m,\u001b[0m \u001b[0mTruckStates\u001b[0m\u001b[0;34m,\u001b[0m \u001b[0mTruckSymptoms\u001b[0m\u001b[0;34m)\u001b[0m\u001b[0;34m\u001b[0m\u001b[0;34m\u001b[0m\u001b[0m\n\u001b[0m\u001b[1;32m      8\u001b[0m \u001b[0;34m\u001b[0m\u001b[0m\n\u001b[1;32m      9\u001b[0m \u001b[0mpossible_states\u001b[0m \u001b[0;34m=\u001b[0m \u001b[0mFindMostLikelyStates\u001b[0m\u001b[0;34m(\u001b[0m\u001b[0mStatement\u001b[0m\u001b[0;34m,\u001b[0m \u001b[0mNewModel\u001b[0m\u001b[0;34m,\u001b[0m \u001b[0mTruckStates\u001b[0m\u001b[0;34m,\u001b[0m \u001b[0mTruckStatesProbabilities\u001b[0m\u001b[0;34m,\u001b[0m \u001b[0mTruckSymptoms\u001b[0m\u001b[0;34m,\u001b[0m \u001b[0mP\u001b[0m\u001b[0;34m=\u001b[0m\u001b[0mDetectionProbability\u001b[0m\u001b[0;34m)\u001b[0m\u001b[0;34m\u001b[0m\u001b[0;34m\u001b[0m\u001b[0m\n",
      "\u001b[0;31mNameError\u001b[0m: name 'TruckSymptoms' is not defined"
     ]
    }
   ],
   "source": [
    "DetectionProbability = 0.99\n",
    "RepairProbability = 0.7\n",
    "\n",
    "Statement = [['CityDriving', 'is', 'Slow break'], ['EngineStart', 'is', 'Yes'],\n",
    "             ['FuelLevel', 'is', 'Not Empty'], ['BatteryLevel', 'is', 'Not Empty'], ['EngineTemperature', 'is', 'OK']]\n",
    "\n",
    "NewModel = transform_model(TruckClauses, TruckStates, TruckSymptoms)\n",
    "\n",
    "possible_states = FindMostLikelyStates(Statement, NewModel, TruckStates, TruckStatesProbabilities, TruckSymptoms, P=DetectionProbability)\n",
    "\n",
    "new_states = FilterState(possible_states, prob)\n",
    "\n",
    "goal = {'Breaks': 'OK', 'Engine': 'OK', 'Starter': 'OK', 'U-Joint': 'OK', 'Tires': 'OK', 'Fuel': 'Not Empty',\n",
    "        'Battery': 'Not Empty'}\n",
    "\n",
    "print(RepairTruck(new_states, TruckRepairing, TruckCosts, goal))"
   ]
  },
  {
   "cell_type": "code",
   "execution_count": null,
   "id": "09f105a0",
   "metadata": {},
   "outputs": [],
   "source": []
  }
 ],
 "metadata": {
  "kernelspec": {
   "display_name": "Python 3 (ipykernel)",
   "language": "python",
   "name": "python3"
  },
  "language_info": {
   "codemirror_mode": {
    "name": "ipython",
    "version": 3
   },
   "file_extension": ".py",
   "mimetype": "text/x-python",
   "name": "python",
   "nbconvert_exporter": "python",
   "pygments_lexer": "ipython3",
   "version": "3.9.6"
  }
 },
 "nbformat": 4,
 "nbformat_minor": 5
}
