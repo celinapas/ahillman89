{
 "cells": [
  {
   "cell_type": "code",
   "execution_count": 23,
   "id": "642aec54",
   "metadata": {},
   "outputs": [
    {
     "name": "stdout",
     "output_type": "stream",
     "text": [
      "\u001b[33mWARNING: The directory '/home/jovyan/.cache/pip' or its parent directory is not owned or is not writable by the current user. The cache has been disabled. Check the permissions and owner of that directory. If executing pip with sudo, you should use sudo's -H flag.\u001b[0m\n",
      "Defaulting to user installation because normal site-packages is not writeable\n",
      "Requirement already satisfied: pulp in /home/skyeeiskowitz/.local/lib/python3.9/site-packages (2.5.1)\n"
     ]
    },
    {
     "name": "stderr",
     "output_type": "stream",
     "text": [
      "Matplotlib created a temporary config/cache directory at /tmp/matplotlib-6zjr_1s5 because the default path (/home/jovyan/.cache/matplotlib) is not a writable directory; it is highly recommended to set the MPLCONFIGDIR environment variable to a writable directory, in particular to speed up the import of Matplotlib and to better support multiprocessing.\n"
     ]
    }
   ],
   "source": [
    "#here are some useful imports for this particular series of examples \n",
    "from scipy.optimize import linprog\n",
    "from IPython.core.display import Image, display\n",
    "! pip install pulp\n",
    "from __future__ import division\n",
    "%matplotlib inline\n",
    "import numpy as np\n",
    "import matplotlib as mpl\n",
    "import matplotlib.pyplot as plt\n",
    "import copy"
   ]
  },
  {
   "cell_type": "markdown",
   "id": "95a691c1",
   "metadata": {},
   "source": [
    "# 1. Production optimization\n",
    "- We have four factories, each outputting different products and each with different throughputs and costs to operate the factory per day\n",
    "\n",
    "- The variables are the number of days each factory should operate to maximize revenues\n",
    "-The output is the total number of each product that gets produced, which is important for the distribution step to be aware of. \n",
    "\n",
    " The system is constrained in the following ways:\n",
    "1. Each facotry must meet the goal number of items produced\n",
    "2. Each factory is limited in the amount of days it can consecutively run\n",
    "\n",
    "First, we initialize the linear program problem"
   ]
  },
  {
   "cell_type": "code",
   "execution_count": 24,
   "id": "72290495",
   "metadata": {},
   "outputs": [],
   "source": [
    "from pulp import *\n",
    "problem = LpProblem(\"problemName\", LpMaximize)"
   ]
  },
  {
   "cell_type": "markdown",
   "id": "f26d0172",
   "metadata": {},
   "source": [
    "Then, we initialize the factory and product parameters"
   ]
  },
  {
   "cell_type": "code",
   "execution_count": 25,
   "id": "212f6a7d",
   "metadata": {},
   "outputs": [],
   "source": [
    "num_factories = 4\n",
    "\n",
    "# factory cost per day\n",
    "cost_twinkies = 1e4\n",
    "cost_hohos = 2e4\n",
    "cost_cupcakes = 3e4\n",
    "cost_snowballs = .5e4\n",
    "\n",
    "# factory throughput per day\n",
    "produced_twinkies = 2e2\n",
    "produced_hohos = 1e2\n",
    "produced_cupcakes = 4e3\n",
    "produced_snowballs = 5e5\n"
   ]
  },
  {
   "cell_type": "markdown",
   "id": "39809b68",
   "metadata": {},
   "source": [
    "Next, we set production goals and a time limit of number of consecutive days the facotry can run"
   ]
  },
  {
   "cell_type": "code",
   "execution_count": 26,
   "id": "cba5f9f4",
   "metadata": {},
   "outputs": [],
   "source": [
    "# production goal\n",
    "goal_twinkies = 1e3\n",
    "goal_hohos = 5e2\n",
    "goal_cupcakes = 1e4\n",
    "goal_snowballs = 5e5\n",
    "\n",
    "# time limit\n",
    "max_num_days = 19"
   ]
  },
  {
   "cell_type": "markdown",
   "id": "61b423c1",
   "metadata": {},
   "source": [
    "Next, we initialize a dictionary to keep track of the number of days each factory will have to run while also imposing the constraint on the maximum number of days each facotry can consecutively run"
   ]
  },
  {
   "cell_type": "code",
   "execution_count": 27,
   "id": "d12c208f",
   "metadata": {},
   "outputs": [
    {
     "name": "stdout",
     "output_type": "stream",
     "text": [
      "{0: factoryDays_0, 1: factoryDays_1, 2: factoryDays_2, 3: factoryDays_3}\n"
     ]
    }
   ],
   "source": [
    "factory_days = LpVariable.dicts(\"factoryDays\", list(range(num_factories)), 0, max_num_days, cat=\"Continuous\")\n",
    "print(factory_days)"
   ]
  },
  {
   "cell_type": "markdown",
   "id": "875a3b4d",
   "metadata": {},
   "source": [
    "Now, we add the constraints\n",
    "1. Each factory meets the production goal of the item produced\n",
    "2. Each factory is limited in the amount of days it can consecutively run (already added)"
   ]
  },
  {
   "cell_type": "code",
   "execution_count": 28,
   "id": "add0e2fd",
   "metadata": {},
   "outputs": [],
   "source": [
    "# goal constraint\n",
    "c1 =factory_days[0]*produced_twinkies >= goal_twinkies\n",
    "c2= factory_days[1]*produced_hohos >= goal_hohos\n",
    "c3= factory_days[2] * produced_cupcakes >= goal_cupcakes\n",
    "c4= factory_days[3] * produced_snowballs >= goal_snowballs\n",
    "\n",
    "# adding the constraints to the problem\n",
    "problem += c1\n",
    "problem += c2\n",
    "problem += c3\n",
    "problem += c4"
   ]
  },
  {
   "cell_type": "markdown",
   "id": "0c6b4f3f",
   "metadata": {},
   "source": [
    "Finally, we form the objective funtion which is to maximize the revenue from the backery production. "
   ]
  },
  {
   "cell_type": "code",
   "execution_count": 29,
   "id": "faa5dd4e",
   "metadata": {},
   "outputs": [
    {
     "name": "stdout",
     "output_type": "stream",
     "text": [
      "problemName:\n",
      "MAXIMIZE\n",
      "65000.0*factoryDays_0 + 0.0\n",
      "SUBJECT TO\n",
      "_C1: 200 factoryDays_0 >= 1000\n",
      "\n",
      "_C2: 100 factoryDays_1 >= 500\n",
      "\n",
      "_C3: 4000 factoryDays_2 >= 10000\n",
      "\n",
      "_C4: 500000 factoryDays_3 >= 500000\n",
      "\n",
      "VARIABLES\n",
      "factoryDays_0 <= 19 Continuous\n",
      "factoryDays_1 <= 19 Continuous\n",
      "factoryDays_2 <= 19 Continuous\n",
      "factoryDays_3 <= 19 Continuous\n",
      "\n"
     ]
    }
   ],
   "source": [
    "# objective function\n",
    "problem += (factory_days[0]*cost_twinkies + factory_days[0]*cost_hohos +factory_days[0]*cost_cupcakes +factory_days[0]*cost_snowballs)\n",
    "print(problem)"
   ]
  },
  {
   "cell_type": "markdown",
   "id": "d790814b",
   "metadata": {},
   "source": [
    "We now solve the problem and print the sollutions"
   ]
  },
  {
   "cell_type": "code",
   "execution_count": 34,
   "id": "b239bd7c",
   "metadata": {},
   "outputs": [
    {
     "name": "stdout",
     "output_type": "stream",
     "text": [
      "Welcome to the CBC MILP Solver \n",
      "Version: 2.10.3 \n",
      "Build Date: Dec 15 2019 \n",
      "\n",
      "command line - /home/skyeeiskowitz/.local/lib/python3.9/site-packages/pulp/apis/../solverdir/cbc/linux/64/cbc /tmp/ab39c56a40ab4c3fb9b40418d0fd272d-pulp.mps max timeMode elapsed branch printingOptions all solution /tmp/ab39c56a40ab4c3fb9b40418d0fd272d-pulp.sol (default strategy 1)\n",
      "At line 2 NAME          MODEL\n",
      "At line 3 ROWS\n",
      "At line 9 COLUMNS\n",
      "At line 15 RHS\n",
      "At line 20 BOUNDS\n",
      "At line 25 ENDATA\n",
      "Problem MODEL has 4 rows, 4 columns and 4 elements\n",
      "Coin0008I MODEL read with 0 errors\n",
      "Option for timeMode changed from cpu to elapsed\n",
      "Presolve 0 (-4) rows, 0 (-4) columns and 0 (-4) elements\n",
      "Empty problem - 0 rows, 0 columns and 0 elements\n",
      "Optimal - objective value 1235000\n",
      "After Postsolve, objective 1235000, infeasibilities - dual 0 (0), primal 0 (0)\n",
      "Optimal objective 1235000 - 0 iterations time 0.002, Presolve 0.00\n",
      "Option for printingOptions changed from normal to all\n",
      "Total time (CPU seconds):       0.00   (Wallclock seconds):       0.00\n",
      "\n",
      " 19.0 days producing 3800.0 twinkies\n",
      " 5.0 days producing 500.0 hohos\n",
      " 2.5 days producing 10000.0 cupcakes\n",
      " 1.0 days producing 500000.0 snowballs\n"
     ]
    }
   ],
   "source": [
    "# Solving\n",
    "problem.solve()\n",
    "# Factory throughput per day\n",
    "solution_twinkies= produced_twinkies * factory_days[0].varValue\n",
    "solution_hohos=produced_hohos * factory_days[1].varValue\n",
    "solution_cupcakes=produced_cupcakes * factory_days[2].varValue\n",
    "solution_snowballs= produced_snowballs * factory_days[3].varValue\n",
    "solution = [solution_twinkies,solution_hohos,solution_cupcakes,solution_snowballs]\n",
    "items= [\"twinkies\",\"hohos\",\"cupcakes\",\"snowballs\"]\n",
    "for i in range(num_factories):\n",
    "    print (f\" {factory_days[i].varValue} days producing {round(solution[i],0)} {items[i]}\")"
   ]
  },
  {
   "cell_type": "code",
   "execution_count": null,
   "id": "83fdc739",
   "metadata": {},
   "outputs": [],
   "source": []
  }
 ],
 "metadata": {
  "kernelspec": {
   "display_name": "Python 3 (ipykernel)",
   "language": "python",
   "name": "python3"
  },
  "language_info": {
   "codemirror_mode": {
    "name": "ipython",
    "version": 3
   },
   "file_extension": ".py",
   "mimetype": "text/x-python",
   "name": "python",
   "nbconvert_exporter": "python",
   "pygments_lexer": "ipython3",
   "version": "3.9.6"
  }
 },
 "nbformat": 4,
 "nbformat_minor": 5
}
