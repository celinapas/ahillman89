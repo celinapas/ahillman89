{
 "cells": [
  {
   "cell_type": "markdown",
   "id": "6c0f14dc",
   "metadata": {},
   "source": [
    "# 2. Product fitting"
   ]
  },
  {
   "cell_type": "markdown",
   "id": "43415246",
   "metadata": {},
   "source": [
    "The goal of this section is to solve the knapsack problem for a truck that needs to be filled with 4 different products. The knapsack problem is a combinatorial optimization problem that maximizes the total value of the items in the knapsack while considering any size and weight limitations. We want to ensure our truck has the highest value of items inside given the truck's volume limit. Here we assume we have unlimited amount of each item so the problem becomes an unbounded knapsack problem. "
   ]
  },
  {
   "cell_type": "markdown",
   "id": "bf60a987",
   "metadata": {},
   "source": [
    "We are using a standard 18 wheeler truck. Since our products are very light in weight our main constraint is volume. We have 4 products we need to ship. For packaging purposes, we've stanadardized their widths and heights to 0.1 m and only their length varies. We need to optimize the value in the truck for the given length of the truck."
   ]
  },
  {
   "cell_type": "code",
   "execution_count": 60,
   "id": "9783a74f",
   "metadata": {},
   "outputs": [],
   "source": [
    "#truck size\n",
    "length = 1400 #cm\n",
    "width = 30 #cm\n",
    "height = 30 #cm\n",
    "vol = length * width* height #volume limit\n",
    "weight = 22000 #wieght limit in kg\n",
    "\n",
    "#4 different products, their sizes and corresponding values\n",
    "NAME, SIZE, VALUE = range(3)\n",
    "items = (\n",
    "    # NAME, SIZE, VALUE\n",
    "    ('A', 100, 0),\n",
    "    ('B', 20, 4),\n",
    "    ('C', 30, 5),\n",
    "    ('D', 5, 1) )\n",
    "\n",
    "#C stand for capacity limits\n",
    "C = length\n",
    "\n",
    "def knapsack_solver(items, C):\n",
    "    #sort the items by maximum value given their size\n",
    "    items = sorted(items, key=lambda item: item[VALUE]/float(item[SIZE]), reverse=True)\n",
    "    \n",
    "    #truck tracks max value and number of items\n",
    "    truck = [(0, [0 for i in items]) for i in range(0, C+1)] \n",
    " \n",
    "    #recursively find the best items to put in the truck\n",
    "    for i,item in enumerate(items):\n",
    "        name, size, value = item\n",
    "        for c in range(size, C+1):\n",
    "            truckwithout = truck[c-size] \n",
    "            trial = truckwithout[0] + value\n",
    "            used = truckwithout[1][i]\n",
    "            if truck[c][0] < trial:\n",
    "                 #replace with better item and updated value\n",
    "                truck[c] = (trial, truckwithout[1][:])\n",
    "                truck[c][1][i] +=1 \n",
    " \n",
    "    value, packed = truck[C]\n",
    "    numpacked = sum(packed)\n",
    "    size = sum(items[i][1]*n for i,n in enumerate(packed))\n",
    "\n",
    "    packed = sorted((items[i][NAME], n) for i,n in enumerate(packed) if n)\n",
    "    #return the truck's value, total size of the packages, the number of packaged and the items packed\n",
    "    return value, size, numpacked, packed\n"
   ]
  },
  {
   "cell_type": "code",
   "execution_count": 61,
   "id": "fc521c8b",
   "metadata": {},
   "outputs": [
    {
     "data": {
      "text/plain": [
       "2"
      ]
     },
     "execution_count": 61,
     "metadata": {},
     "output_type": "execute_result"
    }
   ],
   "source": [
    "value"
   ]
  },
  {
   "cell_type": "code",
   "execution_count": 62,
   "id": "0572378c",
   "metadata": {},
   "outputs": [
    {
     "data": {
      "text/plain": [
       "(280, 1400, 70, [('B', 70)])"
      ]
     },
     "execution_count": 62,
     "metadata": {},
     "output_type": "execute_result"
    }
   ],
   "source": [
    "knapsack_solver(items, C)"
   ]
  },
  {
   "cell_type": "code",
   "execution_count": null,
   "id": "59b1ec74",
   "metadata": {},
   "outputs": [],
   "source": []
  },
  {
   "cell_type": "code",
   "execution_count": null,
   "id": "931e5b0c",
   "metadata": {},
   "outputs": [],
   "source": []
  },
  {
   "cell_type": "code",
   "execution_count": null,
   "id": "8133a11c",
   "metadata": {},
   "outputs": [],
   "source": []
  }
 ],
 "metadata": {
  "kernelspec": {
   "display_name": "Python 3 (ipykernel)",
   "language": "python",
   "name": "python3"
  },
  "language_info": {
   "codemirror_mode": {
    "name": "ipython",
    "version": 3
   },
   "file_extension": ".py",
   "mimetype": "text/x-python",
   "name": "python",
   "nbconvert_exporter": "python",
   "pygments_lexer": "ipython3",
   "version": "3.9.6"
  }
 },
 "nbformat": 4,
 "nbformat_minor": 5
}
